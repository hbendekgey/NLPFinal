{
 "cells": [
  {
   "cell_type": "code",
   "execution_count": 1,
   "metadata": {},
   "outputs": [],
   "source": [
    "num_eps = [6,22,24,14,26,26,24,24,23]\n",
    "episodes = []\n",
    "epnames = []\n",
    "for season in range(1,10):\n",
    "    for ep in range(1,num_eps[season-1]+1):\n",
    "        if ep < 10:\n",
    "            ep_str = \"s0\" + str(season) + \"e0\" + str(ep)\n",
    "        else:\n",
    "            ep_str = \"s0\" + str(season) + \"e\" + str(ep)\n",
    "        if (not (ep == 11 and season == 3) and not (season == 6 and (ep == 5 or ep == 18))):\n",
    "            with open(ep_str, \"r\") as file:\n",
    "                episodes.append(file.readline())\n",
    "                epnames.append(ep_str)\n",
    "        "
   ]
  },
  {
   "cell_type": "code",
   "execution_count": 2,
   "metadata": {},
   "outputs": [],
   "source": [
    "with open(\"allep\", \"w+\") as file:\n",
    "    for episode in episodes:\n",
    "        file.write(episode)\n",
    "        file.write(\"\\n\")"
   ]
  },
  {
   "cell_type": "code",
   "execution_count": 3,
   "metadata": {},
   "outputs": [],
   "source": [
    "import spacy"
   ]
  },
  {
   "cell_type": "code",
   "execution_count": 4,
   "metadata": {},
   "outputs": [],
   "source": [
    "sp = spacy.load('en_core_web_sm')"
   ]
  },
  {
   "cell_type": "code",
   "execution_count": 5,
   "metadata": {},
   "outputs": [],
   "source": [
    "sentence2 = sp(\"Manchester United isn't looking to sign any forward. Bla.\")"
   ]
  },
  {
   "cell_type": "code",
   "execution_count": 6,
   "metadata": {},
   "outputs": [
    {
     "name": "stdout",
     "output_type": "stream",
     "text": [
      "Manchester\n",
      "United\n",
      "is\n",
      "n't\n",
      "looking\n",
      "to\n",
      "sign\n",
      "any\n",
      "forward\n",
      ".\n",
      "Bla\n",
      ".\n"
     ]
    }
   ],
   "source": [
    "for word in sentence2:  \n",
    "    print(word.text)"
   ]
  },
  {
   "cell_type": "code",
   "execution_count": 7,
   "metadata": {},
   "outputs": [],
   "source": [
    "from sklearn.feature_extraction.text import CountVectorizer\n",
    "import pandas as pd\n",
    "from html import unescape"
   ]
  },
  {
   "cell_type": "code",
   "execution_count": 8,
   "metadata": {},
   "outputs": [],
   "source": [
    "class MyAnalyzer(object):\n",
    "    \n",
    "    # load spaCy's english model and define the tokenizer/lemmatizer\n",
    "    def __init__(self):\n",
    "        spacy.load('en')\n",
    "        self.lemmatizer_ = spacy.lang.en.English()\n",
    "        \n",
    "    # allow the class instance to be called just like\n",
    "    # just like a function and applies the preprocessing and\n",
    "    # tokenize the document\n",
    "    def __call__(self, doc):\n",
    "        doc_clean = unescape(doc).lower().replace(\"-\",\" \")\n",
    "        #tokens = sp(doc_clean)\n",
    "        #return([token.text for token in tokens])\n",
    "        tokens = self.lemmatizer_(doc_clean)\n",
    "        return([token.lemma_ for token in tokens])\n",
    "\n",
    "    \n",
    "#vectorizer = CustomVectorizer(stop_words = 'english')\n",
    "analyzer = MyAnalyzer()\n",
    "vectorizer = CountVectorizer(analyzer=analyzer, stop_words='english')"
   ]
  },
  {
   "cell_type": "code",
   "execution_count": 9,
   "metadata": {},
   "outputs": [],
   "source": [
    "#vectorizer = CountVectorizer()\n",
    "X = vectorizer.fit_transform(episodes)"
   ]
  },
  {
   "cell_type": "code",
   "execution_count": 10,
   "metadata": {},
   "outputs": [],
   "source": [
    "df = pd.DataFrame(X.toarray())"
   ]
  },
  {
   "cell_type": "code",
   "execution_count": 11,
   "metadata": {},
   "outputs": [
    {
     "data": {
      "text/plain": [
       "CountVectorizer(analyzer=<__main__.MyAnalyzer object at 0x1a1fb2c908>,\n",
       "        binary=False, decode_error='strict', dtype=<class 'numpy.int64'>,\n",
       "        encoding='utf-8', input='content', lowercase=True, max_df=1.0,\n",
       "        max_features=None, min_df=1, ngram_range=(1, 1), preprocessor=None,\n",
       "        stop_words='english', strip_accents=None,\n",
       "        token_pattern='(?u)\\\\b\\\\w\\\\w+\\\\b', tokenizer=None, vocabulary=None)"
      ]
     },
     "execution_count": 11,
     "metadata": {},
     "output_type": "execute_result"
    }
   ],
   "source": [
    "vectorizer"
   ]
  },
  {
   "cell_type": "code",
   "execution_count": 12,
   "metadata": {},
   "outputs": [
    {
     "name": "stdout",
     "output_type": "stream",
     "text": [
      "-PRON-\n",
      "spin-dry\n"
     ]
    }
   ],
   "source": [
    "for i in vectorizer.get_feature_names():\n",
    "    if '-' in i:\n",
    "        print(i)"
   ]
  },
  {
   "cell_type": "code",
   "execution_count": 13,
   "metadata": {},
   "outputs": [
    {
     "data": {
      "text/plain": [
       "(186, 15114)"
      ]
     },
     "execution_count": 13,
     "metadata": {},
     "output_type": "execute_result"
    }
   ],
   "source": [
    "df.shape"
   ]
  },
  {
   "cell_type": "code",
   "execution_count": 14,
   "metadata": {},
   "outputs": [],
   "source": [
    "df = df.div(df.sum(axis=1), axis=0)"
   ]
  },
  {
   "cell_type": "code",
   "execution_count": 15,
   "metadata": {},
   "outputs": [],
   "source": [
    "df.to_csv(\"bow.tsv\", sep='\\t', header=vectorizer.get_feature_names(), index=False)"
   ]
  },
  {
   "cell_type": "code",
   "execution_count": 16,
   "metadata": {},
   "outputs": [
    {
     "data": {
      "text/plain": [
       "(186, 2)"
      ]
     },
     "execution_count": 16,
     "metadata": {},
     "output_type": "execute_result"
    }
   ],
   "source": [
    "from sklearn.manifold import MDS\n",
    "embedding = MDS(n_components=2)\n",
    "X_transformed = embedding.fit_transform(df)\n",
    "X_transformed.shape"
   ]
  },
  {
   "cell_type": "code",
   "execution_count": 17,
   "metadata": {},
   "outputs": [
    {
     "data": {
      "text/html": [
       "<div>\n",
       "<style scoped>\n",
       "    .dataframe tbody tr th:only-of-type {\n",
       "        vertical-align: middle;\n",
       "    }\n",
       "\n",
       "    .dataframe tbody tr th {\n",
       "        vertical-align: top;\n",
       "    }\n",
       "\n",
       "    .dataframe thead th {\n",
       "        text-align: right;\n",
       "    }\n",
       "</style>\n",
       "<table border=\"1\" class=\"dataframe\">\n",
       "  <thead>\n",
       "    <tr style=\"text-align: right;\">\n",
       "      <th></th>\n",
       "      <th>0</th>\n",
       "      <th>1</th>\n",
       "    </tr>\n",
       "  </thead>\n",
       "  <tbody>\n",
       "    <tr>\n",
       "      <th>0</th>\n",
       "      <td>-0.017179</td>\n",
       "      <td>-0.026060</td>\n",
       "    </tr>\n",
       "    <tr>\n",
       "      <th>1</th>\n",
       "      <td>-0.011241</td>\n",
       "      <td>-0.018397</td>\n",
       "    </tr>\n",
       "    <tr>\n",
       "      <th>2</th>\n",
       "      <td>-0.006096</td>\n",
       "      <td>-0.036612</td>\n",
       "    </tr>\n",
       "    <tr>\n",
       "      <th>3</th>\n",
       "      <td>0.004359</td>\n",
       "      <td>-0.031490</td>\n",
       "    </tr>\n",
       "    <tr>\n",
       "      <th>4</th>\n",
       "      <td>0.029651</td>\n",
       "      <td>-0.023649</td>\n",
       "    </tr>\n",
       "  </tbody>\n",
       "</table>\n",
       "</div>"
      ],
      "text/plain": [
       "          0         1\n",
       "0 -0.017179 -0.026060\n",
       "1 -0.011241 -0.018397\n",
       "2 -0.006096 -0.036612\n",
       "3  0.004359 -0.031490\n",
       "4  0.029651 -0.023649"
      ]
     },
     "execution_count": 17,
     "metadata": {},
     "output_type": "execute_result"
    }
   ],
   "source": [
    "dft = pd.DataFrame(X_transformed)\n",
    "dft.head()"
   ]
  },
  {
   "cell_type": "code",
   "execution_count": 23,
   "metadata": {},
   "outputs": [
    {
     "data": {
      "text/plain": [
       "<matplotlib.colorbar.Colorbar at 0x1a22483c50>"
      ]
     },
     "execution_count": 23,
     "metadata": {},
     "output_type": "execute_result"
    },
    {
     "data": {
      "image/png": "[encoded data removed]",
      "text/plain": [
       "<Figure size 432x288 with 2 Axes>"
      ]
     },
     "metadata": {},
     "output_type": "display_data"
    }
   ],
   "source": [
    "from matplotlib import pyplot as plt\n",
    "f1 = dft[0].values\n",
    "f2 = dft[1].values\n",
    "c = list(range(1,187))\n",
    "plt.scatter(f1, f2, c=c, s=7)\n",
    "plt.colorbar()"
   ]
  },
  {
   "cell_type": "code",
   "execution_count": 19,
   "metadata": {},
   "outputs": [],
   "source": [
    "from scipy.spatial.distance import pdist, squareform\n",
    "\n",
    "distances = pdist(dft.values, metric='euclidean')\n",
    "dist_matrix = squareform(distances)\n"
   ]
  },
  {
   "cell_type": "code",
   "execution_count": 20,
   "metadata": {},
   "outputs": [],
   "source": [
    "dMatrix = pd.DataFrame(dist_matrix)"
   ]
  },
  {
   "cell_type": "code",
   "execution_count": 21,
   "metadata": {},
   "outputs": [
    {
     "data": {
      "text/html": [
       "<div>\n",
       "<style scoped>\n",
       "    .dataframe tbody tr th:only-of-type {\n",
       "        vertical-align: middle;\n",
       "    }\n",
       "\n",
       "    .dataframe tbody tr th {\n",
       "        vertical-align: top;\n",
       "    }\n",
       "\n",
       "    .dataframe thead th {\n",
       "        text-align: right;\n",
       "    }\n",
       "</style>\n",
       "<table border=\"1\" class=\"dataframe\">\n",
       "  <thead>\n",
       "    <tr style=\"text-align: right;\">\n",
       "      <th></th>\n",
       "      <th>0</th>\n",
       "      <th>1</th>\n",
       "      <th>2</th>\n",
       "      <th>3</th>\n",
       "      <th>4</th>\n",
       "      <th>5</th>\n",
       "      <th>6</th>\n",
       "      <th>7</th>\n",
       "      <th>8</th>\n",
       "      <th>9</th>\n",
       "      <th>...</th>\n",
       "      <th>176</th>\n",
       "      <th>177</th>\n",
       "      <th>178</th>\n",
       "      <th>179</th>\n",
       "      <th>180</th>\n",
       "      <th>181</th>\n",
       "      <th>182</th>\n",
       "      <th>183</th>\n",
       "      <th>184</th>\n",
       "      <th>185</th>\n",
       "    </tr>\n",
       "  </thead>\n",
       "  <tbody>\n",
       "    <tr>\n",
       "      <th>0</th>\n",
       "      <td>0.000000</td>\n",
       "      <td>0.009695</td>\n",
       "      <td>0.015303</td>\n",
       "      <td>0.022212</td>\n",
       "      <td>0.046892</td>\n",
       "      <td>0.025367</td>\n",
       "      <td>0.072918</td>\n",
       "      <td>0.068554</td>\n",
       "      <td>0.061737</td>\n",
       "      <td>0.070546</td>\n",
       "      <td>...</td>\n",
       "      <td>0.026131</td>\n",
       "      <td>0.035768</td>\n",
       "      <td>0.021167</td>\n",
       "      <td>0.026999</td>\n",
       "      <td>0.015710</td>\n",
       "      <td>0.049491</td>\n",
       "      <td>0.038424</td>\n",
       "      <td>0.035461</td>\n",
       "      <td>0.035270</td>\n",
       "      <td>0.040187</td>\n",
       "    </tr>\n",
       "    <tr>\n",
       "      <th>1</th>\n",
       "      <td>0.009695</td>\n",
       "      <td>0.000000</td>\n",
       "      <td>0.018928</td>\n",
       "      <td>0.020367</td>\n",
       "      <td>0.041228</td>\n",
       "      <td>0.031272</td>\n",
       "      <td>0.063230</td>\n",
       "      <td>0.058883</td>\n",
       "      <td>0.052159</td>\n",
       "      <td>0.060922</td>\n",
       "      <td>...</td>\n",
       "      <td>0.016870</td>\n",
       "      <td>0.026112</td>\n",
       "      <td>0.013308</td>\n",
       "      <td>0.018448</td>\n",
       "      <td>0.015359</td>\n",
       "      <td>0.039825</td>\n",
       "      <td>0.029253</td>\n",
       "      <td>0.025767</td>\n",
       "      <td>0.028990</td>\n",
       "      <td>0.030812</td>\n",
       "    </tr>\n",
       "    <tr>\n",
       "      <th>2</th>\n",
       "      <td>0.015303</td>\n",
       "      <td>0.018928</td>\n",
       "      <td>0.000000</td>\n",
       "      <td>0.011643</td>\n",
       "      <td>0.038024</td>\n",
       "      <td>0.012862</td>\n",
       "      <td>0.075501</td>\n",
       "      <td>0.072667</td>\n",
       "      <td>0.067102</td>\n",
       "      <td>0.075285</td>\n",
       "      <td>...</td>\n",
       "      <td>0.034414</td>\n",
       "      <td>0.039248</td>\n",
       "      <td>0.021113</td>\n",
       "      <td>0.026868</td>\n",
       "      <td>0.006979</td>\n",
       "      <td>0.052284</td>\n",
       "      <td>0.038660</td>\n",
       "      <td>0.040078</td>\n",
       "      <td>0.028653</td>\n",
       "      <td>0.041210</td>\n",
       "    </tr>\n",
       "    <tr>\n",
       "      <th>3</th>\n",
       "      <td>0.022212</td>\n",
       "      <td>0.020367</td>\n",
       "      <td>0.011643</td>\n",
       "      <td>0.000000</td>\n",
       "      <td>0.026479</td>\n",
       "      <td>0.021380</td>\n",
       "      <td>0.066410</td>\n",
       "      <td>0.064457</td>\n",
       "      <td>0.059785</td>\n",
       "      <td>0.067394</td>\n",
       "      <td>...</td>\n",
       "      <td>0.031245</td>\n",
       "      <td>0.032029</td>\n",
       "      <td>0.014566</td>\n",
       "      <td>0.018801</td>\n",
       "      <td>0.006600</td>\n",
       "      <td>0.043884</td>\n",
       "      <td>0.029528</td>\n",
       "      <td>0.033550</td>\n",
       "      <td>0.017194</td>\n",
       "      <td>0.032352</td>\n",
       "    </tr>\n",
       "    <tr>\n",
       "      <th>4</th>\n",
       "      <td>0.046892</td>\n",
       "      <td>0.041228</td>\n",
       "      <td>0.038024</td>\n",
       "      <td>0.026479</td>\n",
       "      <td>0.000000</td>\n",
       "      <td>0.045038</td>\n",
       "      <td>0.053645</td>\n",
       "      <td>0.055015</td>\n",
       "      <td>0.053811</td>\n",
       "      <td>0.058694</td>\n",
       "      <td>...</td>\n",
       "      <td>0.042054</td>\n",
       "      <td>0.033179</td>\n",
       "      <td>0.028407</td>\n",
       "      <td>0.025719</td>\n",
       "      <td>0.032653</td>\n",
       "      <td>0.037235</td>\n",
       "      <td>0.025472</td>\n",
       "      <td>0.036019</td>\n",
       "      <td>0.012368</td>\n",
       "      <td>0.027942</td>\n",
       "    </tr>\n",
       "  </tbody>\n",
       "</table>\n",
       "<p>5 rows × 186 columns</p>\n",
       "</div>"
      ],
      "text/plain": [
       "        0         1         2         3         4         5         6    \\\n",
       "0  0.000000  0.009695  0.015303  0.022212  0.046892  0.025367  0.072918   \n",
       "1  0.009695  0.000000  0.018928  0.020367  0.041228  0.031272  0.063230   \n",
       "2  0.015303  0.018928  0.000000  0.011643  0.038024  0.012862  0.075501   \n",
       "3  0.022212  0.020367  0.011643  0.000000  0.026479  0.021380  0.066410   \n",
       "4  0.046892  0.041228  0.038024  0.026479  0.000000  0.045038  0.053645   \n",
       "\n",
       "        7         8         9      ...          176       177       178  \\\n",
       "0  0.068554  0.061737  0.070546    ...     0.026131  0.035768  0.021167   \n",
       "1  0.058883  0.052159  0.060922    ...     0.016870  0.026112  0.013308   \n",
       "2  0.072667  0.067102  0.075285    ...     0.034414  0.039248  0.021113   \n",
       "3  0.064457  0.059785  0.067394    ...     0.031245  0.032029  0.014566   \n",
       "4  0.055015  0.053811  0.058694    ...     0.042054  0.033179  0.028407   \n",
       "\n",
       "        179       180       181       182       183       184       185  \n",
       "0  0.026999  0.015710  0.049491  0.038424  0.035461  0.035270  0.040187  \n",
       "1  0.018448  0.015359  0.039825  0.029253  0.025767  0.028990  0.030812  \n",
       "2  0.026868  0.006979  0.052284  0.038660  0.040078  0.028653  0.041210  \n",
       "3  0.018801  0.006600  0.043884  0.029528  0.033550  0.017194  0.032352  \n",
       "4  0.025719  0.032653  0.037235  0.025472  0.036019  0.012368  0.027942  \n",
       "\n",
       "[5 rows x 186 columns]"
      ]
     },
     "execution_count": 21,
     "metadata": {},
     "output_type": "execute_result"
    }
   ],
   "source": [
    "dMatrix.head()"
   ]
  },
  {
   "cell_type": "code",
   "execution_count": 28,
   "metadata": {},
   "outputs": [
    {
     "data": {
      "text/plain": [
       "[40, 128]"
      ]
     },
     "execution_count": 28,
     "metadata": {},
     "output_type": "execute_result"
    }
   ],
   "source": [
    "dft.index[dft[0] > 0.05].tolist()"
   ]
  },
  {
   "cell_type": "code",
   "execution_count": 30,
   "metadata": {},
   "outputs": [
    {
     "data": {
      "text/plain": [
       "'s07e14'"
      ]
     },
     "execution_count": 30,
     "metadata": {},
     "output_type": "execute_result"
    }
   ],
   "source": [
    "epnames[128]"
   ]
  },
  {
   "cell_type": "code",
   "execution_count": 29,
   "metadata": {},
   "outputs": [
    {
     "data": {
      "text/plain": [
       "'s03e14'"
      ]
     },
     "execution_count": 29,
     "metadata": {},
     "output_type": "execute_result"
    }
   ],
   "source": [
    "epnames[40]"
   ]
  },
  {
   "cell_type": "code",
   "execution_count": 27,
   "metadata": {},
   "outputs": [
    {
     "data": {
      "text/plain": [
       "'s06e10'"
      ]
     },
     "execution_count": 27,
     "metadata": {},
     "output_type": "execute_result"
    }
   ],
   "source": [
    "epnames[99]"
   ]
  },
  {
   "cell_type": "code",
   "execution_count": 26,
   "metadata": {},
   "outputs": [
    {
     "data": {
      "text/plain": [
       "'s07e24'"
      ]
     },
     "execution_count": 26,
     "metadata": {},
     "output_type": "execute_result"
    }
   ],
   "source": [
    "epnames[138]"
   ]
  },
  {
   "cell_type": "code",
   "execution_count": 67,
   "metadata": {},
   "outputs": [
    {
     "data": {
      "text/plain": [
       "0    102\n",
       "1     15\n",
       "dtype: int64"
      ]
     },
     "execution_count": 67,
     "metadata": {},
     "output_type": "execute_result"
    }
   ],
   "source": [
    "pd.DataFrame.idxmax(dft,axis=0)"
   ]
  },
  {
   "cell_type": "code",
   "execution_count": 68,
   "metadata": {},
   "outputs": [],
   "source": [
    "dMatrix.to_csv(\"dist.tsv\", sep=',', header=epnames, index=False)"
   ]
  },
  {
   "cell_type": "code",
   "execution_count": null,
   "metadata": {},
   "outputs": [],
   "source": [
    "from skbio.stats.distance import DissimilarityMatrix\n",
    "dm = DissimilarityMatrix()"
   ]
  }
 ],
 "metadata": {
  "kernelspec": {
   "display_name": "Python 3",
   "language": "python",
   "name": "python3"
  },
  "language_info": {
   "codemirror_mode": {
    "name": "ipython",
    "version": 3
   },
   "file_extension": ".py",
   "mimetype": "text/x-python",
   "name": "python",
   "nbconvert_exporter": "python",
   "pygments_lexer": "ipython3",
   "version": "3.6.5"
  }
 },
 "nbformat": 4,
 "nbformat_minor": 2
}
