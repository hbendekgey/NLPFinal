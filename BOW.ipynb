{
 "cells": [
  {
   "cell_type": "code",
   "execution_count": 1,
   "metadata": {},
   "outputs": [],
   "source": [
    "num_eps = [6,22,24,14,26,26,24,24,23]\n",
    "episodes = []\n",
    "epnames = []\n",
    "for season in range(1,10):\n",
    "    for ep in range(1,num_eps[season-1]+1):\n",
    "        if ep < 10:\n",
    "            ep_str = \"s0\" + str(season) + \"e0\" + str(ep)\n",
    "        else:\n",
    "            ep_str = \"s0\" + str(season) + \"e\" + str(ep)\n",
    "        if (not (ep == 11 and season == 3) and not (season == 6 and (ep == 5 or ep == 18))):\n",
    "            with open(ep_str, \"r\") as file:\n",
    "                episodes.append(file.readline())\n",
    "                epnames.append(ep_str)\n",
    "        "
   ]
  },
  {
   "cell_type": "code",
   "execution_count": 2,
   "metadata": {},
   "outputs": [],
   "source": [
    "with open(\"allep\", \"w+\") as file:\n",
    "    for episode in episodes:\n",
    "        file.write(episode)\n",
    "        file.write(\"\\n\")"
   ]
  },
  {
   "cell_type": "code",
   "execution_count": 3,
   "metadata": {},
   "outputs": [],
   "source": [
    "import spacy"
   ]
  },
  {
   "cell_type": "code",
   "execution_count": 4,
   "metadata": {},
   "outputs": [],
   "source": [
    "sp = spacy.load('en_core_web_sm')"
   ]
  },
  {
   "cell_type": "code",
   "execution_count": 5,
   "metadata": {},
   "outputs": [],
   "source": [
    "sentence2 = sp(\"Manchester United isn't looking to sign any forward. Bla.\")"
   ]
  },
  {
   "cell_type": "code",
   "execution_count": 6,
   "metadata": {},
   "outputs": [
    {
     "name": "stdout",
     "output_type": "stream",
     "text": [
      "Manchester\n",
      "United\n",
      "is\n",
      "n't\n",
      "looking\n",
      "to\n",
      "sign\n",
      "any\n",
      "forward\n",
      ".\n",
      "Bla\n",
      ".\n"
     ]
    }
   ],
   "source": [
    "for word in sentence2:  \n",
    "    print(word.text)"
   ]
  },
  {
   "cell_type": "code",
   "execution_count": 7,
   "metadata": {},
   "outputs": [],
   "source": [
    "from sklearn.feature_extraction.text import CountVectorizer\n",
    "import pandas as pd\n",
    "from html import unescape"
   ]
  },
  {
   "cell_type": "code",
   "execution_count": 51,
   "metadata": {},
   "outputs": [],
   "source": [
    "class MyAnalyzer(object):\n",
    "    \n",
    "    # load spaCy's english model and define the tokenizer/lemmatizer\n",
    "    def __init__(self):\n",
    "        spacy.load('en')\n",
    "        self.lemmatizer_ = spacy.lang.en.English()\n",
    "        \n",
    "    # allow the class instance to be called just like\n",
    "    # just like a function and applies the preprocessing and\n",
    "    # tokenize the document\n",
    "    def __call__(self, doc):\n",
    "        doc_clean = unescape(doc).lower().replace(\"-\",\" \")\n",
    "        #tokens = sp(doc_clean)\n",
    "        #return([token.text for token in tokens])\n",
    "        tokens = self.lemmatizer_(doc_clean)\n",
    "        return([token.lemma_ for token in tokens])\n",
    "\n",
    "    \n",
    "#vectorizer = CustomVectorizer(stop_words = 'english')\n",
    "analyzer = MyAnalyzer()\n",
    "vectorizer = CountVectorizer(analyzer=analyzer, stop_words='english')"
   ]
  },
  {
   "cell_type": "code",
   "execution_count": 52,
   "metadata": {},
   "outputs": [],
   "source": [
    "#vectorizer = CountVectorizer()\n",
    "X = vectorizer.fit_transform(episodes)"
   ]
  },
  {
   "cell_type": "code",
   "execution_count": 53,
   "metadata": {},
   "outputs": [],
   "source": [
    "df = pd.DataFrame(X.toarray())"
   ]
  },
  {
   "cell_type": "code",
   "execution_count": 54,
   "metadata": {},
   "outputs": [
    {
     "data": {
      "text/plain": [
       "CountVectorizer(analyzer=<__main__.MyAnalyzer object at 0x1a32609cf8>,\n",
       "        binary=False, decode_error='strict', dtype=<class 'numpy.int64'>,\n",
       "        encoding='utf-8', input='content', lowercase=True, max_df=1.0,\n",
       "        max_features=None, min_df=1, ngram_range=(1, 1), preprocessor=None,\n",
       "        stop_words='english', strip_accents=None,\n",
       "        token_pattern='(?u)\\\\b\\\\w\\\\w+\\\\b', tokenizer=None, vocabulary=None)"
      ]
     },
     "execution_count": 54,
     "metadata": {},
     "output_type": "execute_result"
    }
   ],
   "source": [
    "vectorizer"
   ]
  },
  {
   "cell_type": "code",
   "execution_count": 55,
   "metadata": {},
   "outputs": [
    {
     "name": "stdout",
     "output_type": "stream",
     "text": [
      "-PRON-\n",
      "spin-dry\n"
     ]
    }
   ],
   "source": [
    "for i in vectorizer.get_feature_names():\n",
    "    if '-' in i:\n",
    "        print(i)"
   ]
  },
  {
   "cell_type": "code",
   "execution_count": 56,
   "metadata": {},
   "outputs": [
    {
     "data": {
      "text/plain": [
       "(186, 15114)"
      ]
     },
     "execution_count": 56,
     "metadata": {},
     "output_type": "execute_result"
    }
   ],
   "source": [
    "df.shape"
   ]
  },
  {
   "cell_type": "code",
   "execution_count": 57,
   "metadata": {},
   "outputs": [],
   "source": [
    "df = df.div(df.sum(axis=1), axis=0)"
   ]
  },
  {
   "cell_type": "code",
   "execution_count": 58,
   "metadata": {},
   "outputs": [],
   "source": [
    "df.to_csv(\"bow.tsv\", sep='\\t', header=vectorizer.get_feature_names(), index=False)"
   ]
  },
  {
   "cell_type": "code",
   "execution_count": 59,
   "metadata": {},
   "outputs": [
    {
     "data": {
      "text/plain": [
       "(186, 2)"
      ]
     },
     "execution_count": 59,
     "metadata": {},
     "output_type": "execute_result"
    }
   ],
   "source": [
    "from sklearn.manifold import MDS\n",
    "embedding = MDS(n_components=2)\n",
    "X_transformed = embedding.fit_transform(df)\n",
    "X_transformed.shape"
   ]
  },
  {
   "cell_type": "code",
   "execution_count": 60,
   "metadata": {},
   "outputs": [
    {
     "data": {
      "text/html": [
       "<div>\n",
       "<style scoped>\n",
       "    .dataframe tbody tr th:only-of-type {\n",
       "        vertical-align: middle;\n",
       "    }\n",
       "\n",
       "    .dataframe tbody tr th {\n",
       "        vertical-align: top;\n",
       "    }\n",
       "\n",
       "    .dataframe thead th {\n",
       "        text-align: right;\n",
       "    }\n",
       "</style>\n",
       "<table border=\"1\" class=\"dataframe\">\n",
       "  <thead>\n",
       "    <tr style=\"text-align: right;\">\n",
       "      <th></th>\n",
       "      <th>0</th>\n",
       "      <th>1</th>\n",
       "    </tr>\n",
       "  </thead>\n",
       "  <tbody>\n",
       "    <tr>\n",
       "      <th>0</th>\n",
       "      <td>0.004657</td>\n",
       "      <td>-0.028321</td>\n",
       "    </tr>\n",
       "    <tr>\n",
       "      <th>1</th>\n",
       "      <td>-0.000811</td>\n",
       "      <td>-0.018751</td>\n",
       "    </tr>\n",
       "    <tr>\n",
       "      <th>2</th>\n",
       "      <td>0.017672</td>\n",
       "      <td>-0.030398</td>\n",
       "    </tr>\n",
       "    <tr>\n",
       "      <th>3</th>\n",
       "      <td>0.027855</td>\n",
       "      <td>-0.015288</td>\n",
       "    </tr>\n",
       "    <tr>\n",
       "      <th>4</th>\n",
       "      <td>0.037573</td>\n",
       "      <td>0.001573</td>\n",
       "    </tr>\n",
       "  </tbody>\n",
       "</table>\n",
       "</div>"
      ],
      "text/plain": [
       "          0         1\n",
       "0  0.004657 -0.028321\n",
       "1 -0.000811 -0.018751\n",
       "2  0.017672 -0.030398\n",
       "3  0.027855 -0.015288\n",
       "4  0.037573  0.001573"
      ]
     },
     "execution_count": 60,
     "metadata": {},
     "output_type": "execute_result"
    }
   ],
   "source": [
    "dft = pd.DataFrame(X_transformed)\n",
    "dft.head()"
   ]
  },
  {
   "cell_type": "code",
   "execution_count": 61,
   "metadata": {},
   "outputs": [
    {
     "data": {
      "text/plain": [
       "<matplotlib.colorbar.Colorbar at 0x1a2519a2b0>"
      ]
     },
     "execution_count": 61,
     "metadata": {},
     "output_type": "execute_result"
    },
    {
     "data": {
      "image/png": "[encoded data removed]",
      "text/plain": [
       "<Figure size 432x288 with 2 Axes>"
      ]
     },
     "metadata": {},
     "output_type": "display_data"
    }
   ],
   "source": [
    "from matplotlib import pyplot as plt\n",
    "f1 = dft[0].values\n",
    "f2 = dft[1].values\n",
    "c = list(range(1,187))\n",
    "plt.scatter(f1, f2, c=c, s=7)\n",
    "plt.colorbar()"
   ]
  },
  {
   "cell_type": "code",
   "execution_count": 62,
   "metadata": {},
   "outputs": [],
   "source": [
    "from scipy.spatial.distance import pdist, squareform\n",
    "\n",
    "distances = pdist(dft.values, metric='euclidean')\n",
    "dist_matrix = squareform(distances)\n"
   ]
  },
  {
   "cell_type": "code",
   "execution_count": 63,
   "metadata": {},
   "outputs": [],
   "source": [
    "dMatrix = pd.DataFrame(dist_matrix)"
   ]
  },
  {
   "cell_type": "code",
   "execution_count": 64,
   "metadata": {},
   "outputs": [
    {
     "data": {
      "text/html": [
       "<div>\n",
       "<style scoped>\n",
       "    .dataframe tbody tr th:only-of-type {\n",
       "        vertical-align: middle;\n",
       "    }\n",
       "\n",
       "    .dataframe tbody tr th {\n",
       "        vertical-align: top;\n",
       "    }\n",
       "\n",
       "    .dataframe thead th {\n",
       "        text-align: right;\n",
       "    }\n",
       "</style>\n",
       "<table border=\"1\" class=\"dataframe\">\n",
       "  <thead>\n",
       "    <tr style=\"text-align: right;\">\n",
       "      <th></th>\n",
       "      <th>0</th>\n",
       "      <th>1</th>\n",
       "      <th>2</th>\n",
       "      <th>3</th>\n",
       "      <th>4</th>\n",
       "      <th>5</th>\n",
       "      <th>6</th>\n",
       "      <th>7</th>\n",
       "      <th>8</th>\n",
       "      <th>9</th>\n",
       "      <th>...</th>\n",
       "      <th>176</th>\n",
       "      <th>177</th>\n",
       "      <th>178</th>\n",
       "      <th>179</th>\n",
       "      <th>180</th>\n",
       "      <th>181</th>\n",
       "      <th>182</th>\n",
       "      <th>183</th>\n",
       "      <th>184</th>\n",
       "      <th>185</th>\n",
       "    </tr>\n",
       "  </thead>\n",
       "  <tbody>\n",
       "    <tr>\n",
       "      <th>0</th>\n",
       "      <td>0.000000</td>\n",
       "      <td>0.011022</td>\n",
       "      <td>0.013179</td>\n",
       "      <td>0.026609</td>\n",
       "      <td>0.044466</td>\n",
       "      <td>0.033557</td>\n",
       "      <td>0.066740</td>\n",
       "      <td>0.067968</td>\n",
       "      <td>0.062576</td>\n",
       "      <td>0.070383</td>\n",
       "      <td>...</td>\n",
       "      <td>0.028320</td>\n",
       "      <td>0.036625</td>\n",
       "      <td>0.024068</td>\n",
       "      <td>0.024534</td>\n",
       "      <td>0.033692</td>\n",
       "      <td>0.047226</td>\n",
       "      <td>0.044930</td>\n",
       "      <td>0.036226</td>\n",
       "      <td>0.030407</td>\n",
       "      <td>0.037438</td>\n",
       "    </tr>\n",
       "    <tr>\n",
       "      <th>1</th>\n",
       "      <td>0.011022</td>\n",
       "      <td>0.000000</td>\n",
       "      <td>0.021846</td>\n",
       "      <td>0.028875</td>\n",
       "      <td>0.043433</td>\n",
       "      <td>0.040190</td>\n",
       "      <td>0.055930</td>\n",
       "      <td>0.057152</td>\n",
       "      <td>0.052000</td>\n",
       "      <td>0.060464</td>\n",
       "      <td>...</td>\n",
       "      <td>0.017814</td>\n",
       "      <td>0.028139</td>\n",
       "      <td>0.019776</td>\n",
       "      <td>0.018869</td>\n",
       "      <td>0.034196</td>\n",
       "      <td>0.037934</td>\n",
       "      <td>0.037620</td>\n",
       "      <td>0.027211</td>\n",
       "      <td>0.028775</td>\n",
       "      <td>0.029814</td>\n",
       "    </tr>\n",
       "    <tr>\n",
       "      <th>2</th>\n",
       "      <td>0.013179</td>\n",
       "      <td>0.021846</td>\n",
       "      <td>0.000000</td>\n",
       "      <td>0.018222</td>\n",
       "      <td>0.037660</td>\n",
       "      <td>0.020643</td>\n",
       "      <td>0.077185</td>\n",
       "      <td>0.075184</td>\n",
       "      <td>0.068983</td>\n",
       "      <td>0.074879</td>\n",
       "      <td>...</td>\n",
       "      <td>0.035929</td>\n",
       "      <td>0.039998</td>\n",
       "      <td>0.024158</td>\n",
       "      <td>0.026096</td>\n",
       "      <td>0.026211</td>\n",
       "      <td>0.051200</td>\n",
       "      <td>0.045900</td>\n",
       "      <td>0.040452</td>\n",
       "      <td>0.025905</td>\n",
       "      <td>0.039479</td>\n",
       "    </tr>\n",
       "    <tr>\n",
       "      <th>3</th>\n",
       "      <td>0.026609</td>\n",
       "      <td>0.028875</td>\n",
       "      <td>0.018222</td>\n",
       "      <td>0.000000</td>\n",
       "      <td>0.019461</td>\n",
       "      <td>0.016678</td>\n",
       "      <td>0.076300</td>\n",
       "      <td>0.068673</td>\n",
       "      <td>0.061582</td>\n",
       "      <td>0.064601</td>\n",
       "      <td>...</td>\n",
       "      <td>0.034062</td>\n",
       "      <td>0.031267</td>\n",
       "      <td>0.015897</td>\n",
       "      <td>0.018923</td>\n",
       "      <td>0.008010</td>\n",
       "      <td>0.041779</td>\n",
       "      <td>0.033318</td>\n",
       "      <td>0.032801</td>\n",
       "      <td>0.010309</td>\n",
       "      <td>0.029085</td>\n",
       "    </tr>\n",
       "    <tr>\n",
       "      <th>4</th>\n",
       "      <td>0.044466</td>\n",
       "      <td>0.043433</td>\n",
       "      <td>0.037660</td>\n",
       "      <td>0.019461</td>\n",
       "      <td>0.000000</td>\n",
       "      <td>0.029939</td>\n",
       "      <td>0.078752</td>\n",
       "      <td>0.065336</td>\n",
       "      <td>0.057742</td>\n",
       "      <td>0.056767</td>\n",
       "      <td>...</td>\n",
       "      <td>0.040765</td>\n",
       "      <td>0.031060</td>\n",
       "      <td>0.024274</td>\n",
       "      <td>0.026361</td>\n",
       "      <td>0.011453</td>\n",
       "      <td>0.037924</td>\n",
       "      <td>0.026545</td>\n",
       "      <td>0.033517</td>\n",
       "      <td>0.014660</td>\n",
       "      <td>0.027296</td>\n",
       "    </tr>\n",
       "  </tbody>\n",
       "</table>\n",
       "<p>5 rows × 186 columns</p>\n",
       "</div>"
      ],
      "text/plain": [
       "        0         1         2         3         4         5         6    \\\n",
       "0  0.000000  0.011022  0.013179  0.026609  0.044466  0.033557  0.066740   \n",
       "1  0.011022  0.000000  0.021846  0.028875  0.043433  0.040190  0.055930   \n",
       "2  0.013179  0.021846  0.000000  0.018222  0.037660  0.020643  0.077185   \n",
       "3  0.026609  0.028875  0.018222  0.000000  0.019461  0.016678  0.076300   \n",
       "4  0.044466  0.043433  0.037660  0.019461  0.000000  0.029939  0.078752   \n",
       "\n",
       "        7         8         9      ...          176       177       178  \\\n",
       "0  0.067968  0.062576  0.070383    ...     0.028320  0.036625  0.024068   \n",
       "1  0.057152  0.052000  0.060464    ...     0.017814  0.028139  0.019776   \n",
       "2  0.075184  0.068983  0.074879    ...     0.035929  0.039998  0.024158   \n",
       "3  0.068673  0.061582  0.064601    ...     0.034062  0.031267  0.015897   \n",
       "4  0.065336  0.057742  0.056767    ...     0.040765  0.031060  0.024274   \n",
       "\n",
       "        179       180       181       182       183       184       185  \n",
       "0  0.024534  0.033692  0.047226  0.044930  0.036226  0.030407  0.037438  \n",
       "1  0.018869  0.034196  0.037934  0.037620  0.027211  0.028775  0.029814  \n",
       "2  0.026096  0.026211  0.051200  0.045900  0.040452  0.025905  0.039479  \n",
       "3  0.018923  0.008010  0.041779  0.033318  0.032801  0.010309  0.029085  \n",
       "4  0.026361  0.011453  0.037924  0.026545  0.033517  0.014660  0.027296  \n",
       "\n",
       "[5 rows x 186 columns]"
      ]
     },
     "execution_count": 64,
     "metadata": {},
     "output_type": "execute_result"
    }
   ],
   "source": [
    "dMatrix.head()"
   ]
  },
  {
   "cell_type": "code",
   "execution_count": 65,
   "metadata": {},
   "outputs": [
    {
     "data": {
      "text/plain": [
       "[40, 99, 128, 138]"
      ]
     },
     "execution_count": 65,
     "metadata": {},
     "output_type": "execute_result"
    }
   ],
   "source": [
    "dft.index[dft[1] < -0.05].tolist()"
   ]
  },
  {
   "cell_type": "code",
   "execution_count": 66,
   "metadata": {},
   "outputs": [
    {
     "data": {
      "text/plain": [
       "'s07e14'"
      ]
     },
     "execution_count": 66,
     "metadata": {},
     "output_type": "execute_result"
    }
   ],
   "source": [
    "epnames[128]"
   ]
  },
  {
   "cell_type": "code",
   "execution_count": 67,
   "metadata": {},
   "outputs": [
    {
     "data": {
      "text/plain": [
       "0    102\n",
       "1     15\n",
       "dtype: int64"
      ]
     },
     "execution_count": 67,
     "metadata": {},
     "output_type": "execute_result"
    }
   ],
   "source": [
    "pd.DataFrame.idxmax(dft,axis=0)"
   ]
  },
  {
   "cell_type": "code",
   "execution_count": 68,
   "metadata": {},
   "outputs": [],
   "source": [
    "dMatrix.to_csv(\"dist.tsv\", sep=',', header=epnames, index=False)"
   ]
  },
  {
   "cell_type": "code",
   "execution_count": null,
   "metadata": {},
   "outputs": [],
   "source": [
    "from skbio.stats.distance import DissimilarityMatrix\n",
    "dm = DissimilarityMatrix()"
   ]
  }
 ],
 "metadata": {
  "kernelspec": {
   "display_name": "Python 3",
   "language": "python",
   "name": "python3"
  },
  "language_info": {
   "codemirror_mode": {
    "name": "ipython",
    "version": 3
   },
   "file_extension": ".py",
   "mimetype": "text/x-python",
   "name": "python",
   "nbconvert_exporter": "python",
   "pygments_lexer": "ipython3",
   "version": "3.6.5"
  }
 },
 "nbformat": 4,
 "nbformat_minor": 2
}
