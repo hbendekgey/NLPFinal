{
 "cells": [
  {
   "cell_type": "code",
   "execution_count": 5,
   "metadata": {},
   "outputs": [],
   "source": [
    "num_eps = [6,22,23,14,26,26,24,24,23]\n",
    "episodes = []\n",
    "epnames = []\n",
    "for season in range(1,10):\n",
    "    with open(\"s0\" + str(season), \"w+\") as sfile:\n",
    "        for ep in range(1,num_eps[season-1]+1):\n",
    "            if ep < 10:\n",
    "                ep_str = \"s0\" + str(season) + \"e0\" + str(ep)\n",
    "            else:\n",
    "                ep_str = \"s0\" + str(season) + \"e\" + str(ep)\n",
    "            if (not (season == 6 and (ep == 5 or ep == 18))):\n",
    "                with open(ep_str, \"r\") as file:\n",
    "                    line = file.readline()\n",
    "                    sfile.write(line)\n",
    "                    episodes.append(line)\n",
    "                    epnames.append(ep_str)\n",
    "        "
   ]
  },
  {
   "cell_type": "code",
   "execution_count": 6,
   "metadata": {},
   "outputs": [],
   "source": [
    "for season in range(1,10):\n",
    "    with open(\"nots0\" + str(season), \"w+\") as file:\n",
    "        for oseason in range(1,10):\n",
    "            if (not oseason == season):\n",
    "                with open(\"s0\" + str(oseason), \"r\") as ofile:\n",
    "                    line = ofile.readline()\n",
    "                    file.write(line)"
   ]
  },
  {
   "cell_type": "code",
   "execution_count": 7,
   "metadata": {},
   "outputs": [],
   "source": [
    "with open(\"allep\", \"w+\") as file:\n",
    "    for episode in episodes:\n",
    "        file.write(episode)\n",
    "        file.write(\"\\n\")"
   ]
  },
  {
   "cell_type": "code",
   "execution_count": 8,
   "metadata": {},
   "outputs": [],
   "source": [
    "#mindy\n",
    "mindy = [\"s01e06\", \"s02e01\", \"s02e18\", \"s03e06\", \"s04e10\", \"s04e15\", \"s05e09\", \"s05e16\", \"s05e19\", \"s06e4\", \"s06e13\", \"s06e16\", \"s06e22\", \"s07e05\", \"s07e11\", \"s07e21\", \"s08e10\", \"s08e17\"] \n",
    "\n",
    "#paul\n",
    "paul = [\"s01e03\", \"s02e07\", \"s02e14\", \"s02e17\", \"s03e03\", \"s03e18\", \"s03e24\", \"s04e7\", \"s04e18\", \"s05e14\", \"s05e28\", \"s06e01\", \"s07e04\", \"s07e25\", \"s08e02\", \"s09e17\"]\n",
    "\n",
    "#greg\n",
    "greg = [\"s01e01\", \"s05e05\", \"s02e05\", \"s02e11\", \"s02e21\", \"s03e01\", \"s03e23\", \"s04e01\", \"s05e4\", \"s07e22\", \"s09e01\", \"s09e24\"]\n",
    "\n",
    "#Jennifer\n",
    "jennifer = [\"s02e09\", \"s02e20\", \"s03e04\", \"s03e10\", \"s03e23\", \"s04e03\", \"s04e14\", \"s05e12\", \"s05e28\", \"s06e03\", \"s06e15\"]\n"
   ]
  },
  {
   "cell_type": "code",
   "execution_count": 9,
   "metadata": {},
   "outputs": [],
   "source": [
    "mindyeps = \"\"\n",
    "with open(\"mindy\", \"w+\") as mfile:\n",
    "    with open(\"notmindy\", \"w+\") as nfile:\n",
    "        for i in range(0,len(epnames)):\n",
    "            if (epnames[i] in mindy):\n",
    "                mindyeps = mindyeps + episodes[i]\n",
    "                mfile.write(episodes[i])\n",
    "            else:\n",
    "                nfile.write(episodes[i])"
   ]
  },
  {
   "cell_type": "code",
   "execution_count": 10,
   "metadata": {},
   "outputs": [],
   "source": [
    "pauleps = \"\"\n",
    "with open(\"paul\", \"w+\") as pfile:\n",
    "    with open(\"notpaul\", \"w+\") as nfile:\n",
    "        for i in range(0,len(epnames)):\n",
    "            if (epnames[i] in paul):\n",
    "                pauleps = pauleps + episodes[i]\n",
    "                pfile.write(episodes[i])\n",
    "            else:\n",
    "                nfile.write(episodes[i])"
   ]
  },
  {
   "cell_type": "code",
   "execution_count": 11,
   "metadata": {},
   "outputs": [],
   "source": [
    "gregeps = \"\"\n",
    "with open(\"greg\", \"w+\") as gfile:\n",
    "    with open(\"notgreg\", \"w+\") as nfile:\n",
    "        for i in range(0,len(epnames)):\n",
    "            if (epnames[i] in greg):\n",
    "                gregeps = gregeps + episodes[i]\n",
    "                gfile.write(episodes[i])\n",
    "            else:\n",
    "                nfile.write(episodes[i])"
   ]
  },
  {
   "cell_type": "code",
   "execution_count": 12,
   "metadata": {},
   "outputs": [],
   "source": [
    "jeneps = \"\"\n",
    "with open(\"jennifer\", \"w+\") as jfile:\n",
    "    with open(\"notjennifer\", \"w+\") as nfile:\n",
    "        for i in range(0,len(epnames)):\n",
    "            if (epnames[i] in jennifer):\n",
    "                jeneps = jeneps + episodes[i]\n",
    "                jfile.write(episodes[i])\n",
    "            else:\n",
    "                nfile.write(episodes[i])"
   ]
  },
  {
   "cell_type": "code",
   "execution_count": 13,
   "metadata": {},
   "outputs": [],
   "source": [
    "import spacy"
   ]
  },
  {
   "cell_type": "code",
   "execution_count": 20,
   "metadata": {},
   "outputs": [],
   "source": [
    "sp = spacy.load('en_core_web_sm')"
   ]
  },
  {
   "cell_type": "code",
   "execution_count": 21,
   "metadata": {},
   "outputs": [],
   "source": [
    "sentence2 = sp(\"Manchester United isn't looking to sign any forward. Bla.\")"
   ]
  },
  {
   "cell_type": "code",
   "execution_count": 22,
   "metadata": {},
   "outputs": [
    {
     "name": "stdout",
     "output_type": "stream",
     "text": [
      "Manchester\n",
      "United\n",
      "is\n",
      "n't\n",
      "looking\n",
      "to\n",
      "sign\n",
      "any\n",
      "forward\n",
      ".\n",
      "Bla\n",
      ".\n"
     ]
    }
   ],
   "source": [
    "for word in sentence2:  \n",
    "    print(word.text)"
   ]
  },
  {
   "cell_type": "code",
   "execution_count": 34,
   "metadata": {},
   "outputs": [],
   "source": [
    "from sklearn.feature_extraction.text import CountVectorizer\n",
    "from sklearn.feature_extraction.text import TfidfVectorizer\n",
    "import pandas as pd\n",
    "from html import unescape"
   ]
  },
  {
   "cell_type": "code",
   "execution_count": 57,
   "metadata": {},
   "outputs": [],
   "source": [
    "vectorizer = CountVectorizer()\n",
    "X = vectorizer.fit_transform([mindyeps, pauleps, gregeps, jeneps])\n",
    "df = pd.DataFrame(X.toarray())"
   ]
  },
  {
   "cell_type": "code",
   "execution_count": 53,
   "metadata": {},
   "outputs": [],
   "source": [
    "vectorizer = CountVectorizer()\n",
    "X = vectorizer.fit_transform(episodes)\n",
    "df = pd.DataFrame(X.toarray())"
   ]
  },
  {
   "cell_type": "code",
   "execution_count": 68,
   "metadata": {},
   "outputs": [],
   "source": [
    "vectorizer = TfidfVectorizer()\n",
    "X = vectorizer.fit_transform(episodes)\n",
    "df = pd.DataFrame(X.toarray())"
   ]
  },
  {
   "cell_type": "code",
   "execution_count": 69,
   "metadata": {},
   "outputs": [],
   "source": [
    "df = df.div(df.sum(axis=1), axis=0)"
   ]
  },
  {
   "cell_type": "code",
   "execution_count": 76,
   "metadata": {},
   "outputs": [],
   "source": [
    "df.to_csv(\"bow.tsv\", sep='\\t', header=vectorizer.get_feature_names(), index=False)"
   ]
  },
  {
   "cell_type": "code",
   "execution_count": 70,
   "metadata": {},
   "outputs": [
    {
     "data": {
      "text/plain": [
       "(186, 2)"
      ]
     },
     "execution_count": 70,
     "metadata": {},
     "output_type": "execute_result"
    }
   ],
   "source": [
    "from sklearn.manifold import MDS\n",
    "embedding = MDS(n_components=2)\n",
    "X_transformed = embedding.fit_transform(df)\n",
    "X_transformed.shape"
   ]
  },
  {
   "cell_type": "code",
   "execution_count": 71,
   "metadata": {},
   "outputs": [
    {
     "data": {
      "text/html": [
       "<div>\n",
       "<style scoped>\n",
       "    .dataframe tbody tr th:only-of-type {\n",
       "        vertical-align: middle;\n",
       "    }\n",
       "\n",
       "    .dataframe tbody tr th {\n",
       "        vertical-align: top;\n",
       "    }\n",
       "\n",
       "    .dataframe thead th {\n",
       "        text-align: right;\n",
       "    }\n",
       "</style>\n",
       "<table border=\"1\" class=\"dataframe\">\n",
       "  <thead>\n",
       "    <tr style=\"text-align: right;\">\n",
       "      <th></th>\n",
       "      <th>0</th>\n",
       "      <th>1</th>\n",
       "    </tr>\n",
       "  </thead>\n",
       "  <tbody>\n",
       "    <tr>\n",
       "      <th>0</th>\n",
       "      <td>0.019062</td>\n",
       "      <td>-0.029669</td>\n",
       "    </tr>\n",
       "    <tr>\n",
       "      <th>1</th>\n",
       "      <td>-0.036407</td>\n",
       "      <td>-0.029581</td>\n",
       "    </tr>\n",
       "    <tr>\n",
       "      <th>2</th>\n",
       "      <td>0.039194</td>\n",
       "      <td>0.008985</td>\n",
       "    </tr>\n",
       "    <tr>\n",
       "      <th>3</th>\n",
       "      <td>-0.010578</td>\n",
       "      <td>0.039726</td>\n",
       "    </tr>\n",
       "    <tr>\n",
       "      <th>4</th>\n",
       "      <td>-0.005223</td>\n",
       "      <td>-0.046532</td>\n",
       "    </tr>\n",
       "  </tbody>\n",
       "</table>\n",
       "</div>"
      ],
      "text/plain": [
       "          0         1\n",
       "0  0.019062 -0.029669\n",
       "1 -0.036407 -0.029581\n",
       "2  0.039194  0.008985\n",
       "3 -0.010578  0.039726\n",
       "4 -0.005223 -0.046532"
      ]
     },
     "execution_count": 71,
     "metadata": {},
     "output_type": "execute_result"
    }
   ],
   "source": [
    "dft = pd.DataFrame(X_transformed)\n",
    "dft.head()"
   ]
  },
  {
   "cell_type": "code",
   "execution_count": 79,
   "metadata": {},
   "outputs": [
    {
     "data": {
      "text/plain": [
       "<matplotlib.colorbar.Colorbar at 0x1a30c61b70>"
      ]
     },
     "execution_count": 79,
     "metadata": {},
     "output_type": "execute_result"
    },
    {
     "data": {
      "image/png": "[encoded data removed]",
      "text/plain": [
       "<Figure size 432x288 with 2 Axes>"
      ]
     },
     "metadata": {},
     "output_type": "display_data"
    }
   ],
   "source": [
    "from matplotlib import pyplot as plt\n",
    "f1 = dft[0].values\n",
    "f2 = dft[1].values\n",
    "c = list(range(1,187))\n",
    "plt.scatter(f1, f2, c=c, s=7)\n",
    "plt.colorbar()"
   ]
  },
  {
   "cell_type": "code",
   "execution_count": 72,
   "metadata": {},
   "outputs": [],
   "source": [
    "from scipy.spatial.distance import pdist, squareform\n",
    "distances = pdist(dft.values, metric='euclidean')\n",
    "dist_matrix = squareform(distances)\n",
    "dMatrix = pd.DataFrame(dist_matrix)"
   ]
  },
  {
   "cell_type": "code",
   "execution_count": 67,
   "metadata": {},
   "outputs": [
    {
     "ename": "ValueError",
     "evalue": "Writing 186 cols but got 4 aliases",
     "output_type": "error",
     "traceback": [
      "\u001b[0;31m---------------------------------------------------------------------------\u001b[0m",
      "\u001b[0;31mValueError\u001b[0m                                Traceback (most recent call last)",
      "\u001b[0;32m<ipython-input-67-ae4e806703cb>\u001b[0m in \u001b[0;36m<module>\u001b[0;34m()\u001b[0m\n\u001b[0;32m----> 1\u001b[0;31m \u001b[0mdMatrix\u001b[0m\u001b[0;34m.\u001b[0m\u001b[0mto_csv\u001b[0m\u001b[0;34m(\u001b[0m\u001b[0;34m\"writerdist.tsv\"\u001b[0m\u001b[0;34m,\u001b[0m \u001b[0msep\u001b[0m\u001b[0;34m=\u001b[0m\u001b[0;34m','\u001b[0m\u001b[0;34m,\u001b[0m \u001b[0mheader\u001b[0m\u001b[0;34m=\u001b[0m\u001b[0;34m[\u001b[0m\u001b[0;34m\"mindy\"\u001b[0m\u001b[0;34m,\u001b[0m \u001b[0;34m\"paul\"\u001b[0m\u001b[0;34m,\u001b[0m \u001b[0;34m\"greg\"\u001b[0m\u001b[0;34m,\u001b[0m\u001b[0;34m\"jenn\"\u001b[0m\u001b[0;34m]\u001b[0m\u001b[0;34m,\u001b[0m \u001b[0mindex\u001b[0m\u001b[0;34m=\u001b[0m\u001b[0;32mFalse\u001b[0m\u001b[0;34m)\u001b[0m\u001b[0;34m\u001b[0m\u001b[0m\n\u001b[0m\u001b[1;32m      2\u001b[0m \u001b[0;31m#dMatrix.to_csv(\"dist.tsv\", sep=',', header=epnames, index=False)\u001b[0m\u001b[0;34m\u001b[0m\u001b[0;34m\u001b[0m\u001b[0m\n",
      "\u001b[0;32m/anaconda3/lib/python3.6/site-packages/pandas/core/frame.py\u001b[0m in \u001b[0;36mto_csv\u001b[0;34m(self, path_or_buf, sep, na_rep, float_format, columns, header, index, index_label, mode, encoding, compression, quoting, quotechar, line_terminator, chunksize, tupleize_cols, date_format, doublequote, escapechar, decimal)\u001b[0m\n\u001b[1;32m   1743\u001b[0m                                  \u001b[0mdoublequote\u001b[0m\u001b[0;34m=\u001b[0m\u001b[0mdoublequote\u001b[0m\u001b[0;34m,\u001b[0m\u001b[0;34m\u001b[0m\u001b[0m\n\u001b[1;32m   1744\u001b[0m                                  escapechar=escapechar, decimal=decimal)\n\u001b[0;32m-> 1745\u001b[0;31m         \u001b[0mformatter\u001b[0m\u001b[0;34m.\u001b[0m\u001b[0msave\u001b[0m\u001b[0;34m(\u001b[0m\u001b[0;34m)\u001b[0m\u001b[0;34m\u001b[0m\u001b[0m\n\u001b[0m\u001b[1;32m   1746\u001b[0m \u001b[0;34m\u001b[0m\u001b[0m\n\u001b[1;32m   1747\u001b[0m         \u001b[0;32mif\u001b[0m \u001b[0mpath_or_buf\u001b[0m \u001b[0;32mis\u001b[0m \u001b[0;32mNone\u001b[0m\u001b[0;34m:\u001b[0m\u001b[0;34m\u001b[0m\u001b[0m\n",
      "\u001b[0;32m/anaconda3/lib/python3.6/site-packages/pandas/io/formats/csvs.py\u001b[0m in \u001b[0;36msave\u001b[0;34m(self)\u001b[0m\n\u001b[1;32m    149\u001b[0m                 \u001b[0mself\u001b[0m\u001b[0;34m.\u001b[0m\u001b[0mwriter\u001b[0m \u001b[0;34m=\u001b[0m \u001b[0mUnicodeWriter\u001b[0m\u001b[0;34m(\u001b[0m\u001b[0mf\u001b[0m\u001b[0;34m,\u001b[0m \u001b[0;34m**\u001b[0m\u001b[0mwriter_kwargs\u001b[0m\u001b[0;34m)\u001b[0m\u001b[0;34m\u001b[0m\u001b[0m\n\u001b[1;32m    150\u001b[0m \u001b[0;34m\u001b[0m\u001b[0m\n\u001b[0;32m--> 151\u001b[0;31m             \u001b[0mself\u001b[0m\u001b[0;34m.\u001b[0m\u001b[0m_save\u001b[0m\u001b[0;34m(\u001b[0m\u001b[0;34m)\u001b[0m\u001b[0;34m\u001b[0m\u001b[0m\n\u001b[0m\u001b[1;32m    152\u001b[0m \u001b[0;34m\u001b[0m\u001b[0m\n\u001b[1;32m    153\u001b[0m         \u001b[0;32mfinally\u001b[0m\u001b[0;34m:\u001b[0m\u001b[0;34m\u001b[0m\u001b[0m\n",
      "\u001b[0;32m/anaconda3/lib/python3.6/site-packages/pandas/io/formats/csvs.py\u001b[0m in \u001b[0;36m_save\u001b[0;34m(self)\u001b[0m\n\u001b[1;32m    247\u001b[0m     \u001b[0;32mdef\u001b[0m \u001b[0m_save\u001b[0m\u001b[0;34m(\u001b[0m\u001b[0mself\u001b[0m\u001b[0;34m)\u001b[0m\u001b[0;34m:\u001b[0m\u001b[0;34m\u001b[0m\u001b[0m\n\u001b[1;32m    248\u001b[0m \u001b[0;34m\u001b[0m\u001b[0m\n\u001b[0;32m--> 249\u001b[0;31m         \u001b[0mself\u001b[0m\u001b[0;34m.\u001b[0m\u001b[0m_save_header\u001b[0m\u001b[0;34m(\u001b[0m\u001b[0;34m)\u001b[0m\u001b[0;34m\u001b[0m\u001b[0m\n\u001b[0m\u001b[1;32m    250\u001b[0m \u001b[0;34m\u001b[0m\u001b[0m\n\u001b[1;32m    251\u001b[0m         \u001b[0mnrows\u001b[0m \u001b[0;34m=\u001b[0m \u001b[0mlen\u001b[0m\u001b[0;34m(\u001b[0m\u001b[0mself\u001b[0m\u001b[0;34m.\u001b[0m\u001b[0mdata_index\u001b[0m\u001b[0;34m)\u001b[0m\u001b[0;34m\u001b[0m\u001b[0m\n",
      "\u001b[0;32m/anaconda3/lib/python3.6/site-packages/pandas/io/formats/csvs.py\u001b[0m in \u001b[0;36m_save_header\u001b[0;34m(self)\u001b[0m\n\u001b[1;32m    182\u001b[0m                 raise ValueError(('Writing {ncols} cols but got {nalias} '\n\u001b[1;32m    183\u001b[0m                                  'aliases'.format(ncols=len(cols),\n\u001b[0;32m--> 184\u001b[0;31m                                                   nalias=len(header))))\n\u001b[0m\u001b[1;32m    185\u001b[0m             \u001b[0;32melse\u001b[0m\u001b[0;34m:\u001b[0m\u001b[0;34m\u001b[0m\u001b[0m\n\u001b[1;32m    186\u001b[0m                 \u001b[0mwrite_cols\u001b[0m \u001b[0;34m=\u001b[0m \u001b[0mheader\u001b[0m\u001b[0;34m\u001b[0m\u001b[0m\n",
      "\u001b[0;31mValueError\u001b[0m: Writing 186 cols but got 4 aliases"
     ]
    }
   ],
   "source": [
    "#dMatrix.to_csv(\"writerdist.tsv\", sep=',', header=[\"mindy\", \"paul\", \"greg\",\"jenn\"], index=False)\n",
    "dMatrix.to_csv(\"idfdist.tsv\", sep=',', header=epnames, index=False)"
   ]
  },
  {
   "cell_type": "code",
   "execution_count": null,
   "metadata": {},
   "outputs": [],
   "source": []
  }
 ],
 "metadata": {
  "kernelspec": {
   "display_name": "Python 3",
   "language": "python",
   "name": "python3"
  },
  "language_info": {
   "codemirror_mode": {
    "name": "ipython",
    "version": 3
   },
   "file_extension": ".py",
   "mimetype": "text/x-python",
   "name": "python",
   "nbconvert_exporter": "python",
   "pygments_lexer": "ipython3",
   "version": "3.6.5"
  }
 },
 "nbformat": 4,
 "nbformat_minor": 2
}
