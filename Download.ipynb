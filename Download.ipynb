{
 "cells": [
  {
   "cell_type": "code",
   "execution_count": 1,
   "metadata": {},
   "outputs": [],
   "source": [
    "import requests\n",
    "from bs4 import BeautifulSoup\n",
    "import re"
   ]
  },
  {
   "cell_type": "code",
   "execution_count": 3,
   "metadata": {},
   "outputs": [],
   "source": [
    "def cleanhtml(raw_html):\n",
    "  cleanr = re.compile('<.*?>')\n",
    "  cleantext = re.sub(cleanr, '', raw_html)\n",
    "  cleantext = re.sub('[\\r\\n\\t]', '', cleantext)\n",
    "  cleantext = re.sub('^\\s+', '', cleantext)\n",
    "  return cleantext"
   ]
  },
  {
   "cell_type": "code",
   "execution_count": 4,
   "metadata": {},
   "outputs": [
    {
     "data": {
      "text/plain": [
       "200"
      ]
     },
     "execution_count": 4,
     "metadata": {},
     "output_type": "execute_result"
    }
   ],
   "source": [
    "page = requests.get(\"https://www.springfieldspringfield.co.uk/view_episode_scripts.php?tv-show=the-office-us&episode=s01e01\")\n",
    "page.status_code"
   ]
  },
  {
   "cell_type": "code",
   "execution_count": 5,
   "metadata": {},
   "outputs": [],
   "source": [
    "soup = BeautifulSoup(page.content, 'html.parser')"
   ]
  },
  {
   "cell_type": "code",
   "execution_count": 48,
   "metadata": {},
   "outputs": [],
   "source": [
    "num_eps = [6,22,24,14,26,25,25,24,23]"
   ]
  },
  {
   "cell_type": "code",
   "execution_count": 46,
   "metadata": {},
   "outputs": [],
   "source": [
    "for season in range(1,10):\n",
    "        for ep in range(1,num_eps[season-1]+1):\n",
    "            if ep < 10:\n",
    "                ep_str = \"s0\" + str(season) + \"e0\" + str(ep)\n",
    "            else:\n",
    "                ep_str = \"s0\" + str(season) + \"e\" + str(ep)\n",
    "            page = requests.get(\"https://www.springfieldspringfield.co.uk/view_episode_scripts.php?tv-show=the-office-us&episode=\" + ep_str)\n",
    "            soup = BeautifulSoup(page.content, 'html.parser')\n",
    "            with open(ep_str, \"w+\") as file:\n",
    "                file.write(cleanhtml(str(soup.find('div', class_='scrolling-script-container'))))"
   ]
  },
  {
   "cell_type": "code",
   "execution_count": 17,
   "metadata": {},
   "outputs": [],
   "source": [
    "ratings = []\n",
    "for season in range(1,10):\n",
    "    ratings.append([])\n",
    "    page = requests.get(\"https://www.imdb.com/title/tt0386676/episodes?season=\" + str(season))\n",
    "    soup = BeautifulSoup(page.content, 'html.parser')\n",
    "    for rating in soup.findAll('span', class_='ipl-rating-star__rating'):\n",
    "        if \".\" in str(rating):\n",
    "            ratings[season-1].append((cleanhtml(str(rating))))"
   ]
  },
  {
   "cell_type": "code",
   "execution_count": 19,
   "metadata": {},
   "outputs": [
    {
     "data": {
      "text/plain": [
       "['7.6', '8.3', '7.9', '8.1', '8.4', '7.8']"
      ]
     },
     "execution_count": 19,
     "metadata": {},
     "output_type": "execute_result"
    }
   ],
   "source": [
    "ratings[0]"
   ]
  },
  {
   "cell_type": "code",
   "execution_count": 21,
   "metadata": {},
   "outputs": [],
   "source": [
    "with open(\"ratings\", \"w+\") as file:\n",
    "    for i in range(0,len(ratings)):\n",
    "        for j in range(0,len(ratings[i])):\n",
    "            file.write(str(ratings[i][j]) + \"\\n\")\n",
    "        file.write(\"\\n\")"
   ]
  },
  {
   "cell_type": "code",
   "execution_count": null,
   "metadata": {},
   "outputs": [],
   "source": []
  }
 ],
 "metadata": {
  "kernelspec": {
   "display_name": "Python 3",
   "language": "python",
   "name": "python3"
  },
  "language_info": {
   "codemirror_mode": {
    "name": "ipython",
    "version": 3
   },
   "file_extension": ".py",
   "mimetype": "text/x-python",
   "name": "python",
   "nbconvert_exporter": "python",
   "pygments_lexer": "ipython3",
   "version": "3.6.5"
  }
 },
 "nbformat": 4,
 "nbformat_minor": 2
}
